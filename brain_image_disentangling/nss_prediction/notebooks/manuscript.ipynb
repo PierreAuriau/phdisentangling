{
 "cells": [
  {
   "cell_type": "code",
   "execution_count": 2,
   "metadata": {},
   "outputs": [],
   "source": [
    "import os\n",
    "import pandas as pd\n",
    "import numpy as np\n",
    "\n",
    "import seaborn as sns\n",
    "import matplotlib.pyplot as plt\n",
    "\n",
    "from sklearn.metrics import mean_squared_error, mean_absolute_error, r2_score, roc_auc_score"
   ]
  },
  {
   "cell_type": "markdown",
   "metadata": {},
   "source": [
    "# NSS score predictions"
   ]
  },
  {
   "cell_type": "code",
   "execution_count": 3,
   "metadata": {},
   "outputs": [],
   "source": [
    "def pivot_df(df):\n",
    "    df = df[df[\"split\"] == \"test\"]\n",
    "    split = \"test\"\n",
    "    model = df[\"model\"].iloc[0]\n",
    "    assert (df[\"model\"] == model).all()\n",
    "    preproc = df[\"preproc\"].iloc[0]\n",
    "    assert (df[\"preproc\"] == preproc).all()\n",
    "    label =  df[\"label\"].iloc[0]\n",
    "    assert (df[\"label\"] == label).all()\n",
    "    df = df.pivot(index=\"fold\", columns=\"metric\", values=\"value\")\n",
    "    df = df.rename_axis(None, axis=1)\n",
    "    df = df.reset_index()\n",
    "    df = df.rename(columns={\"mae\": \"mean_absolute_error\", \"rmse\": \"root_mean_squarred_error\"})\n",
    "    df[\"set\"] = split\n",
    "    df[\"preproc\"] = preproc\n",
    "    df[\"model\"] = model\n",
    "    df[\"label\"] = label\n",
    "    return df"
   ]
  },
  {
   "cell_type": "code",
   "execution_count": 6,
   "metadata": {},
   "outputs": [],
   "source": [
    "# Data Loading\n",
    "path2models = \"/neurospin/psy_sbox/analyses/2023_pauriau_EarlyBrainMarkersWithContrastiveAnalysis/models\"\n",
    "# VBM\n",
    "df_vbm_ml = pd.read_csv(os.path.join(path2models, \"vbm\", \"20241007_nss_stratification\", f\"preproc-vbm_model-lrl2_label-NSS.csv\"), sep=\",\")\n",
    "df_vbm_ml = pivot_df(df_vbm_ml)\n",
    "df_vbm_ml[\"method\"] = \"vbm_sml\"\n",
    "\"\"\"\n",
    "df_vbm_dl = pd.concat([pd.read_csv(os.path.join(path2models, \"vbm\", \"20241007_dlmodel-vbm\", f\"dlmodel_fold-{fold}_epoch-99_test.csv\")) for fold in range(10)] , axis=0)\n",
    "df_vbm_dl[\"method\"] = \"vbm_dl\"\n",
    "df_vbm_dl[\"model\"] = \"resnet18\"\n",
    "df_vbm_dl[\"label\"] = \"NSS\"\n",
    "df_vbm_dl[\"preproc\"] = \"vbm\"\n",
    "\"\"\"\n",
    "# Skeleton\n",
    "\"\"\"\n",
    "df_skel_ml = pd.read_csv(os.path.join(path2models, \"skeleton\", \"20241007_nss_stratification\", f\"preproc-skeleton_model-lrl2_label-NSS.csv\"), sep=\",\")\n",
    "df_skel_ml = pivot_df(df_skel_ml)\n",
    "df_skel_ml[\"method\"] = \"skeleton_sml\"\n",
    "\"\"\"\n",
    "# Find the good experience\n",
    "path_to_exp = \"/neurospin/psy_sbox/analyses/2024_pauriau_global_vs_local/models/global/20250210_nss_prediction\"\n",
    "df_skel_tl = pd.concat([pd.read_csv(os.path.join(path_to_exp, f\"classifier_fold-{fold}_epoch-99_test.csv\")) for fold in range(10)], axis=0)\n",
    "df_skel_tl[\"method\"] = \"skeleton_transfer_learning\"\n",
    "df_skel_tl[\"model\"] = \"densenet121\"\n",
    "df_skel_tl[\"label\"] = \"NSS\"\n",
    "df_skel_tl[\"preproc\"] = \"skeleton\"\n",
    "df_skel_tl = df_skel_tl.rename({\"r2_score\": \"r2\", \"root_mean_squared_error\": \"root_mean_squarred_error\"})\n",
    "\n",
    "\n",
    "df_skel_dl = pd.concat([pd.read_csv(os.path.join(path2models, \"skeleton\", \"20250331_densenet_nss\", f\"dlmodel_fold-{fold}_epoch-49_test.csv\")) for fold in range(10)], axis=0)\n",
    "df_skel_dl[\"method\"] = \"skeleton_dl\"\n",
    "df_skel_dl[\"model\"] = \"resnet18\"\n",
    "df_skel_dl[\"label\"] = \"NSS\"\n",
    "df_skel_dl[\"preproc\"] = \"skeleton\"\n",
    "# Freesurfer\n",
    "df_area_ml = pd.read_csv(os.path.join(path2models, \"freesurfer\", \"20241007_nss_stratification\", f\"texture-area_model-lrl2_label-NSS.csv\"))\n",
    "df_area_ml[\"model\"] = \"lrl2\"\n",
    "df_area_ml[\"preproc\"] = \"freesurfer\"\n",
    "df_area_ml = pivot_df(df_area_ml)\n",
    "df_area_ml[\"method\"] = \"area\"\n",
    "df_curv_ml = pd.read_csv(os.path.join(path2models, \"freesurfer\", \"20241007_nss_stratification\", f\"texture-curv_model-lrl2_label-NSS.csv\"))\n",
    "df_curv_ml[\"model\"] = \"lrl2\"\n",
    "df_curv_ml[\"preproc\"] = \"freesurfer\"\n",
    "df_curv_ml = pivot_df(df_curv_ml)\n",
    "df_curv_ml[\"method\"] = \"curv\"\n",
    "df_thickness_ml = pd.read_csv(os.path.join(path2models, \"freesurfer\", \"20241007_nss_stratification\", f\"texture-thickness_model-lrl2_label-NSS.csv\"))\n",
    "df_thickness_ml[\"model\"] = \"lrl2\"\n",
    "df_thickness_ml[\"preproc\"] = \"freesurfer\"\n",
    "df_thickness_ml = pivot_df(df_thickness_ml)\n",
    "df_thickness_ml[\"method\"] = \"cortical_thickness\"\n",
    "df_nss_predictions = pd.concat((df_vbm_ml, df_skel_dl, df_skel_tl, df_area_ml, df_curv_ml, df_thickness_ml), axis=0, ignore_index=True)"
   ]
  },
  {
   "cell_type": "code",
   "execution_count": 7,
   "metadata": {},
   "outputs": [
    {
     "data": {
      "text/html": [
       "<div>\n",
       "<style scoped>\n",
       "    .dataframe tbody tr th:only-of-type {\n",
       "        vertical-align: middle;\n",
       "    }\n",
       "\n",
       "    .dataframe tbody tr th {\n",
       "        vertical-align: top;\n",
       "    }\n",
       "\n",
       "    .dataframe thead tr th {\n",
       "        text-align: left;\n",
       "    }\n",
       "\n",
       "    .dataframe thead tr:last-of-type th {\n",
       "        text-align: right;\n",
       "    }\n",
       "</style>\n",
       "<table border=\"1\" class=\"dataframe\">\n",
       "  <thead>\n",
       "    <tr>\n",
       "      <th></th>\n",
       "      <th colspan=\"6\" halign=\"left\">r2</th>\n",
       "      <th colspan=\"6\" halign=\"left\">mean_absolute_error</th>\n",
       "      <th colspan=\"6\" halign=\"left\">root_mean_squarred_error</th>\n",
       "    </tr>\n",
       "    <tr>\n",
       "      <th></th>\n",
       "      <th>count</th>\n",
       "      <th>mean</th>\n",
       "      <th>std</th>\n",
       "      <th>min</th>\n",
       "      <th>50%</th>\n",
       "      <th>max</th>\n",
       "      <th>count</th>\n",
       "      <th>mean</th>\n",
       "      <th>std</th>\n",
       "      <th>min</th>\n",
       "      <th>50%</th>\n",
       "      <th>max</th>\n",
       "      <th>count</th>\n",
       "      <th>mean</th>\n",
       "      <th>std</th>\n",
       "      <th>min</th>\n",
       "      <th>50%</th>\n",
       "      <th>max</th>\n",
       "    </tr>\n",
       "    <tr>\n",
       "      <th>method</th>\n",
       "      <th></th>\n",
       "      <th></th>\n",
       "      <th></th>\n",
       "      <th></th>\n",
       "      <th></th>\n",
       "      <th></th>\n",
       "      <th></th>\n",
       "      <th></th>\n",
       "      <th></th>\n",
       "      <th></th>\n",
       "      <th></th>\n",
       "      <th></th>\n",
       "      <th></th>\n",
       "      <th></th>\n",
       "      <th></th>\n",
       "      <th></th>\n",
       "      <th></th>\n",
       "      <th></th>\n",
       "    </tr>\n",
       "  </thead>\n",
       "  <tbody>\n",
       "    <tr>\n",
       "      <th>area</th>\n",
       "      <td>10.0</td>\n",
       "      <td>0.008450</td>\n",
       "      <td>0.036739</td>\n",
       "      <td>-0.047854</td>\n",
       "      <td>0.007988</td>\n",
       "      <td>0.053896</td>\n",
       "      <td>10.0</td>\n",
       "      <td>5.836740</td>\n",
       "      <td>0.740087</td>\n",
       "      <td>5.167892</td>\n",
       "      <td>5.603008</td>\n",
       "      <td>7.330269</td>\n",
       "      <td>10.0</td>\n",
       "      <td>7.351627</td>\n",
       "      <td>1.640685</td>\n",
       "      <td>6.076128</td>\n",
       "      <td>6.639412</td>\n",
       "      <td>11.403646</td>\n",
       "    </tr>\n",
       "    <tr>\n",
       "      <th>cortical_thickness</th>\n",
       "      <td>10.0</td>\n",
       "      <td>0.022758</td>\n",
       "      <td>0.139067</td>\n",
       "      <td>-0.259287</td>\n",
       "      <td>0.058237</td>\n",
       "      <td>0.165499</td>\n",
       "      <td>10.0</td>\n",
       "      <td>5.685060</td>\n",
       "      <td>0.930336</td>\n",
       "      <td>4.214799</td>\n",
       "      <td>5.553961</td>\n",
       "      <td>7.193073</td>\n",
       "      <td>10.0</td>\n",
       "      <td>7.269950</td>\n",
       "      <td>1.572012</td>\n",
       "      <td>5.715591</td>\n",
       "      <td>6.803705</td>\n",
       "      <td>10.782977</td>\n",
       "    </tr>\n",
       "    <tr>\n",
       "      <th>curv</th>\n",
       "      <td>10.0</td>\n",
       "      <td>-0.039154</td>\n",
       "      <td>0.101529</td>\n",
       "      <td>-0.200684</td>\n",
       "      <td>-0.041129</td>\n",
       "      <td>0.119133</td>\n",
       "      <td>10.0</td>\n",
       "      <td>5.976896</td>\n",
       "      <td>0.888063</td>\n",
       "      <td>5.022553</td>\n",
       "      <td>5.856558</td>\n",
       "      <td>7.861896</td>\n",
       "      <td>10.0</td>\n",
       "      <td>7.526626</td>\n",
       "      <td>1.764300</td>\n",
       "      <td>5.921340</td>\n",
       "      <td>6.798106</td>\n",
       "      <td>11.911862</td>\n",
       "    </tr>\n",
       "    <tr>\n",
       "      <th>skeleton_dl</th>\n",
       "      <td>10.0</td>\n",
       "      <td>-0.019182</td>\n",
       "      <td>0.377384</td>\n",
       "      <td>-0.696290</td>\n",
       "      <td>-0.011393</td>\n",
       "      <td>0.495009</td>\n",
       "      <td>10.0</td>\n",
       "      <td>5.904009</td>\n",
       "      <td>1.438472</td>\n",
       "      <td>3.828208</td>\n",
       "      <td>6.132461</td>\n",
       "      <td>7.933713</td>\n",
       "      <td>10.0</td>\n",
       "      <td>7.371269</td>\n",
       "      <td>2.190435</td>\n",
       "      <td>4.647543</td>\n",
       "      <td>7.069439</td>\n",
       "      <td>10.793850</td>\n",
       "    </tr>\n",
       "    <tr>\n",
       "      <th>skeleton_transfer_learning</th>\n",
       "      <td>0.0</td>\n",
       "      <td>NaN</td>\n",
       "      <td>NaN</td>\n",
       "      <td>NaN</td>\n",
       "      <td>NaN</td>\n",
       "      <td>NaN</td>\n",
       "      <td>20.0</td>\n",
       "      <td>10.217545</td>\n",
       "      <td>0.440798</td>\n",
       "      <td>9.333517</td>\n",
       "      <td>10.219316</td>\n",
       "      <td>11.277930</td>\n",
       "      <td>0.0</td>\n",
       "      <td>NaN</td>\n",
       "      <td>NaN</td>\n",
       "      <td>NaN</td>\n",
       "      <td>NaN</td>\n",
       "      <td>NaN</td>\n",
       "    </tr>\n",
       "    <tr>\n",
       "      <th>vbm_sml</th>\n",
       "      <td>10.0</td>\n",
       "      <td>-0.018861</td>\n",
       "      <td>0.133930</td>\n",
       "      <td>-0.281398</td>\n",
       "      <td>0.001170</td>\n",
       "      <td>0.119689</td>\n",
       "      <td>10.0</td>\n",
       "      <td>5.863165</td>\n",
       "      <td>1.010283</td>\n",
       "      <td>4.417838</td>\n",
       "      <td>5.865971</td>\n",
       "      <td>7.619876</td>\n",
       "      <td>10.0</td>\n",
       "      <td>7.440953</td>\n",
       "      <td>1.717422</td>\n",
       "      <td>5.877786</td>\n",
       "      <td>6.953375</td>\n",
       "      <td>11.526318</td>\n",
       "    </tr>\n",
       "  </tbody>\n",
       "</table>\n",
       "</div>"
      ],
      "text/plain": [
       "                              r2                                          \\\n",
       "                           count      mean       std       min       50%   \n",
       "method                                                                     \n",
       "area                        10.0  0.008450  0.036739 -0.047854  0.007988   \n",
       "cortical_thickness          10.0  0.022758  0.139067 -0.259287  0.058237   \n",
       "curv                        10.0 -0.039154  0.101529 -0.200684 -0.041129   \n",
       "skeleton_dl                 10.0 -0.019182  0.377384 -0.696290 -0.011393   \n",
       "skeleton_transfer_learning   0.0       NaN       NaN       NaN       NaN   \n",
       "vbm_sml                     10.0 -0.018861  0.133930 -0.281398  0.001170   \n",
       "\n",
       "                                     mean_absolute_error                       \\\n",
       "                                 max               count       mean       std   \n",
       "method                                                                          \n",
       "area                        0.053896                10.0   5.836740  0.740087   \n",
       "cortical_thickness          0.165499                10.0   5.685060  0.930336   \n",
       "curv                        0.119133                10.0   5.976896  0.888063   \n",
       "skeleton_dl                 0.495009                10.0   5.904009  1.438472   \n",
       "skeleton_transfer_learning       NaN                20.0  10.217545  0.440798   \n",
       "vbm_sml                     0.119689                10.0   5.863165  1.010283   \n",
       "\n",
       "                                                            \\\n",
       "                                 min        50%        max   \n",
       "method                                                       \n",
       "area                        5.167892   5.603008   7.330269   \n",
       "cortical_thickness          4.214799   5.553961   7.193073   \n",
       "curv                        5.022553   5.856558   7.861896   \n",
       "skeleton_dl                 3.828208   6.132461   7.933713   \n",
       "skeleton_transfer_learning  9.333517  10.219316  11.277930   \n",
       "vbm_sml                     4.417838   5.865971   7.619876   \n",
       "\n",
       "                           root_mean_squarred_error                      \\\n",
       "                                              count      mean       std   \n",
       "method                                                                    \n",
       "area                                           10.0  7.351627  1.640685   \n",
       "cortical_thickness                             10.0  7.269950  1.572012   \n",
       "curv                                           10.0  7.526626  1.764300   \n",
       "skeleton_dl                                    10.0  7.371269  2.190435   \n",
       "skeleton_transfer_learning                      0.0       NaN       NaN   \n",
       "vbm_sml                                        10.0  7.440953  1.717422   \n",
       "\n",
       "                                                           \n",
       "                                 min       50%        max  \n",
       "method                                                     \n",
       "area                        6.076128  6.639412  11.403646  \n",
       "cortical_thickness          5.715591  6.803705  10.782977  \n",
       "curv                        5.921340  6.798106  11.911862  \n",
       "skeleton_dl                 4.647543  7.069439  10.793850  \n",
       "skeleton_transfer_learning       NaN       NaN        NaN  \n",
       "vbm_sml                     5.877786  6.953375  11.526318  "
      ]
     },
     "execution_count": 7,
     "metadata": {},
     "output_type": "execute_result"
    }
   ],
   "source": [
    "df_nss_predictions[[\"method\", \"r2\", \"mean_absolute_error\", \"root_mean_squarred_error\"]].groupby(\"method\").describe(percentiles=[0.5])"
   ]
  },
  {
   "cell_type": "markdown",
   "metadata": {},
   "source": [
    "## NSS random permutation predictions"
   ]
  },
  {
   "cell_type": "code",
   "execution_count": 9,
   "metadata": {},
   "outputs": [
    {
     "data": {
      "text/html": [
       "<div>\n",
       "<style scoped>\n",
       "    .dataframe tbody tr th:only-of-type {\n",
       "        vertical-align: middle;\n",
       "    }\n",
       "\n",
       "    .dataframe tbody tr th {\n",
       "        vertical-align: top;\n",
       "    }\n",
       "\n",
       "    .dataframe thead th {\n",
       "        text-align: right;\n",
       "    }\n",
       "</style>\n",
       "<table border=\"1\" class=\"dataframe\">\n",
       "  <thead>\n",
       "    <tr style=\"text-align: right;\">\n",
       "      <th></th>\n",
       "      <th>label</th>\n",
       "      <th>fold</th>\n",
       "      <th>split</th>\n",
       "      <th>model</th>\n",
       "      <th>scaler</th>\n",
       "      <th>preproc</th>\n",
       "      <th>metric</th>\n",
       "      <th>value</th>\n",
       "      <th>target</th>\n",
       "    </tr>\n",
       "  </thead>\n",
       "  <tbody>\n",
       "    <tr>\n",
       "      <th>0</th>\n",
       "      <td>NSS_permutation-1</td>\n",
       "      <td>0</td>\n",
       "      <td>train</td>\n",
       "      <td>lrl2</td>\n",
       "      <td>True</td>\n",
       "      <td>vbm</td>\n",
       "      <td>r2</td>\n",
       "      <td>1.000000</td>\n",
       "      <td>random</td>\n",
       "    </tr>\n",
       "    <tr>\n",
       "      <th>1</th>\n",
       "      <td>NSS_permutation-1</td>\n",
       "      <td>0</td>\n",
       "      <td>train</td>\n",
       "      <td>lrl2</td>\n",
       "      <td>True</td>\n",
       "      <td>vbm</td>\n",
       "      <td>rmse</td>\n",
       "      <td>0.002100</td>\n",
       "      <td>random</td>\n",
       "    </tr>\n",
       "    <tr>\n",
       "      <th>2</th>\n",
       "      <td>NSS_permutation-1</td>\n",
       "      <td>0</td>\n",
       "      <td>train</td>\n",
       "      <td>lrl2</td>\n",
       "      <td>True</td>\n",
       "      <td>vbm</td>\n",
       "      <td>mae</td>\n",
       "      <td>0.001716</td>\n",
       "      <td>random</td>\n",
       "    </tr>\n",
       "    <tr>\n",
       "      <th>3</th>\n",
       "      <td>NSS_permutation-1</td>\n",
       "      <td>0</td>\n",
       "      <td>test</td>\n",
       "      <td>lrl2</td>\n",
       "      <td>True</td>\n",
       "      <td>vbm</td>\n",
       "      <td>r2</td>\n",
       "      <td>-0.502206</td>\n",
       "      <td>random</td>\n",
       "    </tr>\n",
       "    <tr>\n",
       "      <th>4</th>\n",
       "      <td>NSS_permutation-1</td>\n",
       "      <td>0</td>\n",
       "      <td>test</td>\n",
       "      <td>lrl2</td>\n",
       "      <td>True</td>\n",
       "      <td>vbm</td>\n",
       "      <td>rmse</td>\n",
       "      <td>13.745406</td>\n",
       "      <td>random</td>\n",
       "    </tr>\n",
       "  </tbody>\n",
       "</table>\n",
       "</div>"
      ],
      "text/plain": [
       "               label  fold  split model  scaler preproc metric      value  \\\n",
       "0  NSS_permutation-1     0  train  lrl2    True     vbm     r2   1.000000   \n",
       "1  NSS_permutation-1     0  train  lrl2    True     vbm   rmse   0.002100   \n",
       "2  NSS_permutation-1     0  train  lrl2    True     vbm    mae   0.001716   \n",
       "3  NSS_permutation-1     0   test  lrl2    True     vbm     r2  -0.502206   \n",
       "4  NSS_permutation-1     0   test  lrl2    True     vbm   rmse  13.745406   \n",
       "\n",
       "   target  \n",
       "0  random  \n",
       "1  random  \n",
       "2  random  \n",
       "3  random  \n",
       "4  random  "
      ]
     },
     "execution_count": 9,
     "metadata": {},
     "output_type": "execute_result"
    }
   ],
   "source": [
    "saving_dir = \"/neurospin/psy_sbox/analyses/2023_pauriau_EarlyBrainMarkersWithContrastiveAnalysis/models/vbm/20241007_nss_stratification\"\n",
    "preproc = \"vbm\"\n",
    "n_permutations = 1000\n",
    "label = \"NSS\"\n",
    "results = pd.concat([pd.read_csv(os.path.join(saving_dir, f\"preproc-{preproc}_model-lrl2_label-{label}_permutation-{i}.csv\")) for i in range(1, n_permutations+1)], axis=0)\n",
    "results[\"target\"] = results[\"label\"].apply(lambda l: \"random\" if l != \"NSS_permutation-0\" else \"scores\")\n",
    "results.head()"
   ]
  },
  {
   "cell_type": "code",
   "execution_count": 18,
   "metadata": {},
   "outputs": [],
   "source": [
    "df = pd.read_csv(os.path.join(saving_dir, f\"preproc-{preproc}_model-lrl2_label-{label}_permutation-0.csv\"))"
   ]
  },
  {
   "cell_type": "code",
   "execution_count": 35,
   "metadata": {},
   "outputs": [],
   "source": [
    "nb_folds = 10\n",
    "pvalue = {\"fold\": [], \"value\": []}\n",
    "for fold in range(nb_folds):\n",
    "    score = df.loc[(df[\"fold\"] == fold) & (df[\"split\"]==\"test\") & (df[\"metric\"] == \"mae\"), \"value\"].iloc[0]\n",
    "    pvalue[\"fold\"].append(fold)\n",
    "    pvalue[\"value\"].append(len(results[(results[\"value\"] <= score) & (results[\"fold\"] == fold) & (results[\"split\"]==\"test\") & (results[\"metric\"] == \"mae\")]))"
   ]
  },
  {
   "cell_type": "code",
   "execution_count": 37,
   "metadata": {},
   "outputs": [
    {
     "data": {
      "text/plain": [
       "447.3"
      ]
     },
     "execution_count": 37,
     "metadata": {},
     "output_type": "execute_result"
    }
   ],
   "source": [
    "np.mean(pvalue[\"value\"])"
   ]
  },
  {
   "cell_type": "code",
   "execution_count": 38,
   "metadata": {},
   "outputs": [
    {
     "data": {
      "text/plain": [
       "228.7881334335328"
      ]
     },
     "execution_count": 38,
     "metadata": {},
     "output_type": "execute_result"
    }
   ],
   "source": [
    "np.std(pvalue[\"value\"])"
   ]
  },
  {
   "cell_type": "code",
   "execution_count": 24,
   "metadata": {},
   "outputs": [
    {
     "data": {
      "text/plain": [
       "5    6.043295\n",
       "Name: value, dtype: float64"
      ]
     },
     "execution_count": 24,
     "metadata": {},
     "output_type": "execute_result"
    }
   ],
   "source": [
    "df.loc[(df[\"fold\"] == 0) & (df[\"split\"]==\"test\") & (df[\"metric\"] == \"mae\"), \"value\"]"
   ]
  },
  {
   "cell_type": "markdown",
   "metadata": {},
   "source": [
    "# NSS predictions against diagnosis"
   ]
  },
  {
   "cell_type": "code",
   "execution_count": 10,
   "metadata": {},
   "outputs": [],
   "source": [
    "nb_folds = 10\n",
    "path_to_data = \"/neurospin/psy_sbox/analyses/2023_pauriau_EarlyBrainMarkersWithContrastiveAnalysis/data\"\n",
    "path2models = \"/neurospin/psy_sbox/analyses/2023_pauriau_EarlyBrainMarkersWithContrastiveAnalysis/models\"\n",
    "id_types = {\"participant_id\": str,\n",
    "            \"session\": int,\n",
    "            \"acq\": int,\n",
    "            \"run\": int}\n",
    "df = pd.read_csv(os.path.join(path_to_data, \"processed\", \"ausz_t1mri_participants.csv\"), dtype=id_types)\n",
    "scheme = pd.read_csv(os.path.join(path_to_data, \"schemes\", \"nss_stratified_10_fold_ausz.csv\"), dtype=id_types)\n",
    "\n",
    "assert (df[\"participant_id\"] == scheme[\"participant_id\"]).all()\n",
    "\n",
    "for fold in range(nb_folds):\n",
    "\n",
    "    y_pred = np.load(os.path.join(path2models, \"skeleton\", \"20250331_densenet_nss\", f\"y_pred_fold-{fold}_epoch-49_test.npy\"))\n",
    "    y_true = np.load(os.path.join(path2models, \"skeleton\", \"20250331_densenet_nss\", f\"y_true_fold-{fold}_epoch-49_test.npy\"))\n",
    "    # sanity check\n",
    "    assert (df.loc[scheme[f\"fold{fold}\"] == \"test\", \"NSS\"].values == y_true).all()\n",
    "    df.loc[scheme[f\"fold{fold}\"] == \"test\", \"NSS_pred\"] = y_pred"
   ]
  },
  {
   "cell_type": "code",
   "execution_count": 11,
   "metadata": {},
   "outputs": [],
   "source": [
    "data = {\"diagnosis\": [], \"r2\": [], \"mae\": [], \"rmse\": []}\n",
    "for diag in (\"control\", \"scz\", \"scz-asd\", \"asd\"):\n",
    "    y_pred = df.loc[df[\"diagnosis\"] == diag, \"NSS_pred\"].values\n",
    "    y_true = df.loc[df[\"diagnosis\"] == diag, \"NSS\"].values\n",
    "    data[\"diagnosis\"].append(diag)\n",
    "    data[\"r2\"].append(r2_score(y_true=y_true, y_pred=y_pred))\n",
    "    data[\"mae\"].append(mean_absolute_error(y_true=y_true, y_pred=y_pred))\n",
    "    data[\"rmse\"].append(mean_squared_error(y_true=y_true, y_pred=y_pred, squared=False))\n",
    "df_pred = pd.DataFrame(data)"
   ]
  },
  {
   "cell_type": "code",
   "execution_count": 12,
   "metadata": {},
   "outputs": [
    {
     "data": {
      "image/png": "[encoded data removed]",
      "text/plain": [
       "<Figure size 640x480 with 1 Axes>"
      ]
     },
     "metadata": {},
     "output_type": "display_data"
    }
   ],
   "source": [
    "with sns.axes_style(\"whitegrid\"):\n",
    "    sns.barplot(data=df_pred, x=\"diagnosis\", y=\"mae\", hue=\"diagnosis\")\n",
    "plt.show()"
   ]
  },
  {
   "cell_type": "code",
   "execution_count": 13,
   "metadata": {},
   "outputs": [],
   "source": [
    "bin_edges = np.histogram_bin_edges(df[\"NSS\"].values, bins=\"auto\")\n",
    "# Discretizes the values according to these bins\n",
    "df[\"NSS_bin\"] = np.digitize(df[\"NSS\"].values, bin_edges[1:], right=True)"
   ]
  },
  {
   "cell_type": "code",
   "execution_count": 14,
   "metadata": {},
   "outputs": [
    {
     "data": {
      "text/plain": [
       "8"
      ]
     },
     "execution_count": 14,
     "metadata": {},
     "output_type": "execute_result"
    }
   ],
   "source": [
    "len(df[(df[\"NSS_bin\"] == 1) & (df[\"diagnosis\"] == \"control\")])"
   ]
  },
  {
   "cell_type": "code",
   "execution_count": 15,
   "metadata": {},
   "outputs": [
    {
     "name": "stderr",
     "output_type": "stream",
     "text": [
      "/neurospin/dico/pauriau/envs/nss/lib/python3.8/site-packages/sklearn/metrics/_regression.py:996: UndefinedMetricWarning: R^2 score is not well-defined with less than two samples.\n",
      "  warnings.warn(msg, UndefinedMetricWarning)\n",
      "/neurospin/dico/pauriau/envs/nss/lib/python3.8/site-packages/sklearn/metrics/_regression.py:996: UndefinedMetricWarning: R^2 score is not well-defined with less than two samples.\n",
      "  warnings.warn(msg, UndefinedMetricWarning)\n"
     ]
    }
   ],
   "source": [
    "data = {\"bin\": [], \"edge\": [], \"N\": [], \"r2\": [], \"mae\": [], \"rmse\": [], \"control\": [], \"scz\": [], \"scz-asd\": [], \"asd\": []}\n",
    "for i, e in enumerate(bin_edges[1:]):\n",
    "    y_pred = df.loc[df[\"NSS_bin\"] == i, \"NSS_pred\"].values\n",
    "    y_true = df.loc[df[\"NSS_bin\"] == i, \"NSS\"].values\n",
    "    data[\"bin\"].append(i)\n",
    "    data[\"N\"].append(len(y_true))\n",
    "    data[\"edge\"].append(e)\n",
    "    if len(y_pred) > 0:\n",
    "        data[\"r2\"].append(r2_score(y_true=y_true, y_pred=y_pred))\n",
    "        data[\"mae\"].append(mean_absolute_error(y_true=y_true, y_pred=y_pred))\n",
    "        data[\"rmse\"].append(mean_squared_error(y_true=y_true, y_pred=y_pred, squared=False))\n",
    "        data[\"control\"].append(len(df[(df[\"NSS_bin\"] == i) & (df[\"diagnosis\"] == \"control\")]))\n",
    "        data[\"scz\"].append(len(df[(df[\"NSS_bin\"] == i) & (df[\"diagnosis\"] == \"scz\")]))\n",
    "        data[\"scz-asd\"].append(len(df[(df[\"NSS_bin\"] == i) & (df[\"diagnosis\"] == \"scz-asd\")]))\n",
    "        data[\"asd\"].append(len(df[(df[\"NSS_bin\"] == i) & (df[\"diagnosis\"] == \"asd\")]))\n",
    "    else:\n",
    "        data[\"r2\"].append(0)\n",
    "        data[\"mae\"].append(0)\n",
    "        data[\"rmse\"].append(0)\n",
    "        data[\"control\"].append(0)\n",
    "        data[\"scz\"].append(0)\n",
    "        data[\"scz-asd\"].append(0)\n",
    "        data[\"asd\"].append(0)\n",
    "df_pred_bin = pd.DataFrame(data)"
   ]
  },
  {
   "cell_type": "code",
   "execution_count": 16,
   "metadata": {},
   "outputs": [
    {
     "data": {
      "text/plain": [
       "array([ 0. ,  4.1,  8.2, 12.3, 16.4, 20.5, 24.6, 28.7, 32.8, 36.9, 41. ])"
      ]
     },
     "execution_count": 16,
     "metadata": {},
     "output_type": "execute_result"
    }
   ],
   "source": [
    "bin_edges"
   ]
  },
  {
   "cell_type": "code",
   "execution_count": 17,
   "metadata": {},
   "outputs": [
    {
     "data": {
      "image/png": "[encoded data removed]",
      "text/plain": [
       "<Figure size 640x480 with 1 Axes>"
      ]
     },
     "metadata": {},
     "output_type": "display_data"
    }
   ],
   "source": [
    "with sns.axes_style(\"whitegrid\"):\n",
    "    fig, ax = plt.subplots(1, 1)\n",
    "    \"\"\"\n",
    "    bottom = np.zeros_like(bin_edges[1:])\n",
    "    for diag in (\"control\", \"scz\", \"scz-asd\", \"asd\"):\n",
    "        heights = df_pred_bin[\"mae\"] * df_pred_bin[diag] / df_pred_bin[\"N\"]\n",
    "        rects = ax.bar(x=bin_edges[:-1], height=heights,\n",
    "                       width=[bin_edges[i+1]-bin_edges[i] for i in range(len(bin_edges[1:]))], \n",
    "                       align=\"edge\", bottom=bottom, label=diag)\n",
    "        bottom += heights\n",
    "    \"\"\"\n",
    "    rects = ax.bar(x=bin_edges[:-1], height=df_pred_bin[\"mae\"],\n",
    "                       width=[bin_edges[i+1]-bin_edges[i] for i in range(len(bin_edges[1:]))], \n",
    "                       align=\"edge\", alpha=0.8)\n",
    "    ax.bar_label(rects, labels=df_pred_bin[\"N\"], padding=3)\n",
    "    # ax.legend()\n",
    "    ax.set_title(\"MEAN ABSOLUTE ERROR\")\n",
    "    ax.set_xlabel(\"NSS score\")\n",
    "plt.show()"
   ]
  },
  {
   "cell_type": "code",
   "execution_count": 83,
   "metadata": {},
   "outputs": [
    {
     "data": {
      "text/plain": [
       "0     34236\n",
       "1     38026\n",
       "2     39690\n",
       "3     35365\n",
       "4     35981\n",
       "      ...  \n",
       "90    38706\n",
       "91    37406\n",
       "92    34217\n",
       "93    33218\n",
       "94    37787\n",
       "Name: skeleton_size, Length: 95, dtype: int64"
      ]
     },
     "execution_count": 83,
     "metadata": {},
     "output_type": "execute_result"
    }
   ],
   "source": [
    "df[\"skeleton_size\"]"
   ]
  },
  {
   "cell_type": "code",
   "execution_count": 91,
   "metadata": {},
   "outputs": [
    {
     "data": {
      "image/png": "[encoded data removed]",
      "text/plain": [
       "<Figure size 640x480 with 1 Axes>"
      ]
     },
     "metadata": {},
     "output_type": "display_data"
    }
   ],
   "source": [
    "df.loc[df[\"NSS\"] > 10, \"NSS_threshold\"] = \">10\"\n",
    "df.loc[df[\"NSS\"] <= 10, \"NSS_threshold\"] = \"\\u226410\"\n",
    "with sns.axes_style(\"whitegrid\"):\n",
    "    sns.boxplot(data=df, x=\"diagnosis\", y=\"skeleton_size\", hue=\"NSS_threshold\")"
   ]
  },
  {
   "cell_type": "markdown",
   "metadata": {},
   "source": [
    "# NSS thresholded classification"
   ]
  },
  {
   "cell_type": "code",
   "execution_count": null,
   "metadata": {},
   "outputs": [],
   "source": [
    "path_to_exp = \"/neurospin/psy_sbox/analyses/2023_pauriau_EarlyBrainMarkersWithContrastiveAnalysis/models/skeleton/20250210_dl_skeleton_nss_threshold\"\n",
    "epoch_f = 49\n",
    "df_train = pd.concat([pd.read_csv(os.path.join(path_to_exp, f\"dlmodel_fold-{fold}_epoch-{epoch_f}_train.csv\")) for fold in range(10)], axis=0)\n",
    "df_test = pd.concat([pd.read_csv(os.path.join(path_to_exp, f\"dlmodel_fold-{fold}_epoch-{epoch_f}_test.csv\")) for fold in range(10)], axis=0)"
   ]
  },
  {
   "cell_type": "code",
   "execution_count": null,
   "metadata": {},
   "outputs": [
    {
     "data": {
      "image/png": "[encoded data removed]",
      "text/plain": [
       "<Figure size 640x480 with 1 Axes>"
      ]
     },
     "metadata": {},
     "output_type": "display_data"
    }
   ],
   "source": [
    "with sns.axes_style(\"whitegrid\"):\n",
    "    sns.lineplot(data=df_train, x=\"epoch\", y=\"loss\")\n",
    "plt.show()"
   ]
  },
  {
   "cell_type": "code",
   "execution_count": null,
   "metadata": {},
   "outputs": [
    {
     "data": {
      "text/html": [
       "<div>\n",
       "<style scoped>\n",
       "    .dataframe tbody tr th:only-of-type {\n",
       "        vertical-align: middle;\n",
       "    }\n",
       "\n",
       "    .dataframe tbody tr th {\n",
       "        vertical-align: top;\n",
       "    }\n",
       "\n",
       "    .dataframe thead th {\n",
       "        text-align: right;\n",
       "    }\n",
       "</style>\n",
       "<table border=\"1\" class=\"dataframe\">\n",
       "  <thead>\n",
       "    <tr style=\"text-align: right;\">\n",
       "      <th></th>\n",
       "      <th>fold</th>\n",
       "      <th>epoch</th>\n",
       "      <th>set</th>\n",
       "      <th>loss</th>\n",
       "      <th>roc_auc</th>\n",
       "      <th>balanced_accuracy</th>\n",
       "      <th>timestep</th>\n",
       "    </tr>\n",
       "  </thead>\n",
       "  <tbody>\n",
       "    <tr>\n",
       "      <th>0</th>\n",
       "      <td>0</td>\n",
       "      <td>49</td>\n",
       "      <td>test</td>\n",
       "      <td>2.574018</td>\n",
       "      <td>0.600000</td>\n",
       "      <td>0.600000</td>\n",
       "      <td>1.739205e+09</td>\n",
       "    </tr>\n",
       "    <tr>\n",
       "      <th>0</th>\n",
       "      <td>1</td>\n",
       "      <td>49</td>\n",
       "      <td>test</td>\n",
       "      <td>4.410855</td>\n",
       "      <td>0.280000</td>\n",
       "      <td>0.300000</td>\n",
       "      <td>1.739207e+09</td>\n",
       "    </tr>\n",
       "    <tr>\n",
       "      <th>0</th>\n",
       "      <td>2</td>\n",
       "      <td>49</td>\n",
       "      <td>test</td>\n",
       "      <td>3.179512</td>\n",
       "      <td>0.375000</td>\n",
       "      <td>0.458333</td>\n",
       "      <td>1.739209e+09</td>\n",
       "    </tr>\n",
       "    <tr>\n",
       "      <th>0</th>\n",
       "      <td>3</td>\n",
       "      <td>49</td>\n",
       "      <td>test</td>\n",
       "      <td>2.594645</td>\n",
       "      <td>0.583333</td>\n",
       "      <td>0.541667</td>\n",
       "      <td>1.739210e+09</td>\n",
       "    </tr>\n",
       "    <tr>\n",
       "      <th>0</th>\n",
       "      <td>4</td>\n",
       "      <td>49</td>\n",
       "      <td>test</td>\n",
       "      <td>1.088687</td>\n",
       "      <td>0.760000</td>\n",
       "      <td>0.700000</td>\n",
       "      <td>1.739212e+09</td>\n",
       "    </tr>\n",
       "    <tr>\n",
       "      <th>0</th>\n",
       "      <td>5</td>\n",
       "      <td>49</td>\n",
       "      <td>test</td>\n",
       "      <td>1.882632</td>\n",
       "      <td>0.550000</td>\n",
       "      <td>0.650000</td>\n",
       "      <td>1.739214e+09</td>\n",
       "    </tr>\n",
       "    <tr>\n",
       "      <th>0</th>\n",
       "      <td>6</td>\n",
       "      <td>49</td>\n",
       "      <td>test</td>\n",
       "      <td>1.734568</td>\n",
       "      <td>0.600000</td>\n",
       "      <td>0.650000</td>\n",
       "      <td>1.739215e+09</td>\n",
       "    </tr>\n",
       "    <tr>\n",
       "      <th>0</th>\n",
       "      <td>7</td>\n",
       "      <td>49</td>\n",
       "      <td>test</td>\n",
       "      <td>5.719471</td>\n",
       "      <td>0.300000</td>\n",
       "      <td>0.325000</td>\n",
       "      <td>1.739217e+09</td>\n",
       "    </tr>\n",
       "    <tr>\n",
       "      <th>0</th>\n",
       "      <td>8</td>\n",
       "      <td>49</td>\n",
       "      <td>test</td>\n",
       "      <td>3.857040</td>\n",
       "      <td>0.350000</td>\n",
       "      <td>0.425000</td>\n",
       "      <td>1.739218e+09</td>\n",
       "    </tr>\n",
       "    <tr>\n",
       "      <th>0</th>\n",
       "      <td>9</td>\n",
       "      <td>49</td>\n",
       "      <td>test</td>\n",
       "      <td>1.088039</td>\n",
       "      <td>0.666667</td>\n",
       "      <td>0.500000</td>\n",
       "      <td>1.739220e+09</td>\n",
       "    </tr>\n",
       "  </tbody>\n",
       "</table>\n",
       "</div>"
      ],
      "text/plain": [
       "   fold  epoch   set      loss   roc_auc  balanced_accuracy      timestep\n",
       "0     0     49  test  2.574018  0.600000           0.600000  1.739205e+09\n",
       "0     1     49  test  4.410855  0.280000           0.300000  1.739207e+09\n",
       "0     2     49  test  3.179512  0.375000           0.458333  1.739209e+09\n",
       "0     3     49  test  2.594645  0.583333           0.541667  1.739210e+09\n",
       "0     4     49  test  1.088687  0.760000           0.700000  1.739212e+09\n",
       "0     5     49  test  1.882632  0.550000           0.650000  1.739214e+09\n",
       "0     6     49  test  1.734568  0.600000           0.650000  1.739215e+09\n",
       "0     7     49  test  5.719471  0.300000           0.325000  1.739217e+09\n",
       "0     8     49  test  3.857040  0.350000           0.425000  1.739218e+09\n",
       "0     9     49  test  1.088039  0.666667           0.500000  1.739220e+09"
      ]
     },
     "metadata": {},
     "output_type": "display_data"
    }
   ],
   "source": [
    "df_test"
   ]
  },
  {
   "cell_type": "code",
   "execution_count": null,
   "metadata": {},
   "outputs": [
    {
     "data": {
      "text/html": [
       "<div>\n",
       "<style scoped>\n",
       "    .dataframe tbody tr th:only-of-type {\n",
       "        vertical-align: middle;\n",
       "    }\n",
       "\n",
       "    .dataframe tbody tr th {\n",
       "        vertical-align: top;\n",
       "    }\n",
       "\n",
       "    .dataframe thead th {\n",
       "        text-align: right;\n",
       "    }\n",
       "</style>\n",
       "<table border=\"1\" class=\"dataframe\">\n",
       "  <thead>\n",
       "    <tr style=\"text-align: right;\">\n",
       "      <th></th>\n",
       "      <th>fold</th>\n",
       "      <th>epoch</th>\n",
       "      <th>loss</th>\n",
       "      <th>roc_auc</th>\n",
       "      <th>balanced_accuracy</th>\n",
       "      <th>timestep</th>\n",
       "    </tr>\n",
       "  </thead>\n",
       "  <tbody>\n",
       "    <tr>\n",
       "      <th>count</th>\n",
       "      <td>10.00000</td>\n",
       "      <td>10.0</td>\n",
       "      <td>10.000000</td>\n",
       "      <td>10.000000</td>\n",
       "      <td>10.000000</td>\n",
       "      <td>1.000000e+01</td>\n",
       "    </tr>\n",
       "    <tr>\n",
       "      <th>mean</th>\n",
       "      <td>4.50000</td>\n",
       "      <td>49.0</td>\n",
       "      <td>2.812947</td>\n",
       "      <td>0.506500</td>\n",
       "      <td>0.515000</td>\n",
       "      <td>1.739213e+09</td>\n",
       "    </tr>\n",
       "    <tr>\n",
       "      <th>std</th>\n",
       "      <td>3.02765</td>\n",
       "      <td>0.0</td>\n",
       "      <td>1.502117</td>\n",
       "      <td>0.166975</td>\n",
       "      <td>0.138433</td>\n",
       "      <td>4.937827e+03</td>\n",
       "    </tr>\n",
       "    <tr>\n",
       "      <th>min</th>\n",
       "      <td>0.00000</td>\n",
       "      <td>49.0</td>\n",
       "      <td>1.088039</td>\n",
       "      <td>0.280000</td>\n",
       "      <td>0.300000</td>\n",
       "      <td>1.739205e+09</td>\n",
       "    </tr>\n",
       "    <tr>\n",
       "      <th>25%</th>\n",
       "      <td>2.25000</td>\n",
       "      <td>49.0</td>\n",
       "      <td>1.771584</td>\n",
       "      <td>0.356250</td>\n",
       "      <td>0.433333</td>\n",
       "      <td>1.739209e+09</td>\n",
       "    </tr>\n",
       "    <tr>\n",
       "      <th>50%</th>\n",
       "      <td>4.50000</td>\n",
       "      <td>49.0</td>\n",
       "      <td>2.584332</td>\n",
       "      <td>0.566667</td>\n",
       "      <td>0.520833</td>\n",
       "      <td>1.739213e+09</td>\n",
       "    </tr>\n",
       "    <tr>\n",
       "      <th>75%</th>\n",
       "      <td>6.75000</td>\n",
       "      <td>49.0</td>\n",
       "      <td>3.687658</td>\n",
       "      <td>0.600000</td>\n",
       "      <td>0.637500</td>\n",
       "      <td>1.739216e+09</td>\n",
       "    </tr>\n",
       "    <tr>\n",
       "      <th>max</th>\n",
       "      <td>9.00000</td>\n",
       "      <td>49.0</td>\n",
       "      <td>5.719471</td>\n",
       "      <td>0.760000</td>\n",
       "      <td>0.700000</td>\n",
       "      <td>1.739220e+09</td>\n",
       "    </tr>\n",
       "  </tbody>\n",
       "</table>\n",
       "</div>"
      ],
      "text/plain": [
       "           fold  epoch       loss    roc_auc  balanced_accuracy      timestep\n",
       "count  10.00000   10.0  10.000000  10.000000          10.000000  1.000000e+01\n",
       "mean    4.50000   49.0   2.812947   0.506500           0.515000  1.739213e+09\n",
       "std     3.02765    0.0   1.502117   0.166975           0.138433  4.937827e+03\n",
       "min     0.00000   49.0   1.088039   0.280000           0.300000  1.739205e+09\n",
       "25%     2.25000   49.0   1.771584   0.356250           0.433333  1.739209e+09\n",
       "50%     4.50000   49.0   2.584332   0.566667           0.520833  1.739213e+09\n",
       "75%     6.75000   49.0   3.687658   0.600000           0.637500  1.739216e+09\n",
       "max     9.00000   49.0   5.719471   0.760000           0.700000  1.739220e+09"
      ]
     },
     "metadata": {},
     "output_type": "display_data"
    }
   ],
   "source": [
    "df_test.describe()"
   ]
  },
  {
   "cell_type": "code",
   "execution_count": null,
   "metadata": {},
   "outputs": [],
   "source": []
  },
  {
   "cell_type": "code",
   "execution_count": null,
   "metadata": {},
   "outputs": [],
   "source": []
  }
 ],
 "metadata": {
  "kernelspec": {
   "display_name": "nss",
   "language": "python",
   "name": "python3"
  },
  "language_info": {
   "codemirror_mode": {
    "name": "ipython",
    "version": 3
   },
   "file_extension": ".py",
   "mimetype": "text/x-python",
   "name": "python",
   "nbconvert_exporter": "python",
   "pygments_lexer": "ipython3",
   "version": "3.8.10"
  }
 },
 "nbformat": 4,
 "nbformat_minor": 2
}
