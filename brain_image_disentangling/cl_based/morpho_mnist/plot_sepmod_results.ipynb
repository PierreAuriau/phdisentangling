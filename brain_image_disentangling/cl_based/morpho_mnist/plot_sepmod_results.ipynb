{
 "cells": [
  {
   "cell_type": "markdown",
   "metadata": {},
   "source": [
    "# MORPHOMNIST"
   ]
  },
  {
   "cell_type": "code",
   "execution_count": 1,
   "metadata": {},
   "outputs": [],
   "source": [
    "import os\n",
    "import numpy as np\n",
    "import pandas as pd\n",
    "import matplotlib.pyplot as plt\n",
    "import seaborn as sns\n",
    "import itertools\n",
    "from collections import defaultdict"
   ]
  },
  {
   "cell_type": "code",
   "execution_count": 2,
   "metadata": {},
   "outputs": [],
   "source": [
    "path2models = \"/neurospin/psy_sbox/analyses/2023_pauriau_sepmod/models/morphomnist\"\n",
    "path2inputs = f\"/neurospin/psy_sbox/analyses/2023_pauriau_sepmod/data/morpho_mnist\""
   ]
  },
  {
   "cell_type": "code",
   "execution_count": 3,
   "metadata": {},
   "outputs": [],
   "source": [
    "plt.rcParams['text.usetex'] = True\n",
    "plt.rcParams[\"font.family\"] = \"serif\""
   ]
  },
  {
   "cell_type": "code",
   "execution_count": 4,
   "metadata": {},
   "outputs": [],
   "source": [
    "path_to_exp = \"/neurospin/psy_sbox/analyses/2023_pauriau_sepmod/models/morphomnist/20250317_strong_encoder\""
   ]
  },
  {
   "cell_type": "code",
   "execution_count": 5,
   "metadata": {},
   "outputs": [],
   "source": [
    "epoch = 250\n",
    "df_test = pd.read_csv(os.path.join(path_to_exp, \"strong_encoder_test.csv\"))"
   ]
  },
  {
   "cell_type": "code",
   "execution_count": 8,
   "metadata": {},
   "outputs": [],
   "source": [
    "df_test = df_test.replace({\"width\": \"largeur\", \n",
    "                           \"height\": \"hauteur\",\n",
    "                           \"slant\": \"angle\",\n",
    "                           \"length\": \"longueur\",\n",
    "                           \"thickness_img\": \"épaisseur\",\n",
    "                           \"area_img\": \"aire\"})"
   ]
  },
  {
   "cell_type": "code",
   "execution_count": 9,
   "metadata": {},
   "outputs": [
    {
     "data": {
      "text/html": [
       "<div>\n",
       "<style scoped>\n",
       "    .dataframe tbody tr th:only-of-type {\n",
       "        vertical-align: middle;\n",
       "    }\n",
       "\n",
       "    .dataframe tbody tr th {\n",
       "        vertical-align: top;\n",
       "    }\n",
       "\n",
       "    .dataframe thead th {\n",
       "        text-align: right;\n",
       "    }\n",
       "</style>\n",
       "<table border=\"1\" class=\"dataframe\">\n",
       "  <thead>\n",
       "    <tr style=\"text-align: right;\">\n",
       "      <th></th>\n",
       "      <th>Unnamed: 0</th>\n",
       "      <th>epoch</th>\n",
       "      <th>set</th>\n",
       "      <th>label</th>\n",
       "      <th>encoder</th>\n",
       "      <th>score</th>\n",
       "    </tr>\n",
       "  </thead>\n",
       "  <tbody>\n",
       "    <tr>\n",
       "      <th>0</th>\n",
       "      <td>0</td>\n",
       "      <td>250</td>\n",
       "      <td>test</td>\n",
       "      <td>label</td>\n",
       "      <td>strong</td>\n",
       "      <td>0.267847</td>\n",
       "    </tr>\n",
       "    <tr>\n",
       "      <th>1</th>\n",
       "      <td>1</td>\n",
       "      <td>250</td>\n",
       "      <td>test</td>\n",
       "      <td>label</td>\n",
       "      <td>strong_common</td>\n",
       "      <td>0.907804</td>\n",
       "    </tr>\n",
       "    <tr>\n",
       "      <th>2</th>\n",
       "      <td>2</td>\n",
       "      <td>250</td>\n",
       "      <td>test</td>\n",
       "      <td>aire</td>\n",
       "      <td>strong</td>\n",
       "      <td>0.900243</td>\n",
       "    </tr>\n",
       "    <tr>\n",
       "      <th>3</th>\n",
       "      <td>3</td>\n",
       "      <td>250</td>\n",
       "      <td>test</td>\n",
       "      <td>aire</td>\n",
       "      <td>strong_common</td>\n",
       "      <td>0.289837</td>\n",
       "    </tr>\n",
       "    <tr>\n",
       "      <th>4</th>\n",
       "      <td>4</td>\n",
       "      <td>250</td>\n",
       "      <td>test</td>\n",
       "      <td>longueur</td>\n",
       "      <td>strong</td>\n",
       "      <td>0.447198</td>\n",
       "    </tr>\n",
       "  </tbody>\n",
       "</table>\n",
       "</div>"
      ],
      "text/plain": [
       "   Unnamed: 0  epoch   set     label        encoder     score\n",
       "0           0    250  test     label         strong  0.267847\n",
       "1           1    250  test     label  strong_common  0.907804\n",
       "2           2    250  test      aire         strong  0.900243\n",
       "3           3    250  test      aire  strong_common  0.289837\n",
       "4           4    250  test  longueur         strong  0.447198"
      ]
     },
     "execution_count": 9,
     "metadata": {},
     "output_type": "execute_result"
    }
   ],
   "source": [
    "df_test.head()"
   ]
  },
  {
   "cell_type": "code",
   "execution_count": 27,
   "metadata": {},
   "outputs": [
    {
     "data": {
      "image/png": "[encoded data removed]",
      "text/plain": [
       "<Figure size 600x400 with 1 Axes>"
      ]
     },
     "metadata": {},
     "output_type": "display_data"
    }
   ],
   "source": [
    "with sns.axes_style(\"whitegrid\"):\n",
    "    fig, ax = plt.subplots(1, 1, figsize=(6, 4))\n",
    "    targets = [\"label\", \"largeur\", \"hauteur\", \"angle\", \"longueur\", \"épaisseur\", \"aire\"]\n",
    "    sns.barplot(data=df_test, x=\"label\", y=\"score\", hue=\"encoder\", ax=ax, order=targets)\n",
    "    #ax[i].set_title(f\"Modality: {modality.upper()}\")\n",
    "    ax.set_ylabel(\"\")\n",
    "    ax.set_xlabel(\"\")\n",
    "    ax.tick_params(axis='x', which='major', labelsize=11)\n",
    "    ax.get_legend().remove()\n",
    "    ax.vlines(x=4.5, ymin=0, ymax=1.0, color=\"gray\", linestyles=\"dashed\")\n",
    "plt.show()"
   ]
  },
  {
   "cell_type": "code",
   "execution_count": 28,
   "metadata": {},
   "outputs": [],
   "source": [
    "fig.savefig(\"/neurospin/dico/pauriau/tmp/morpho_mnist_results.svg\", transparent=True)"
   ]
  },
  {
   "cell_type": "code",
   "execution_count": null,
   "metadata": {},
   "outputs": [],
   "source": []
  }
 ],
 "metadata": {
  "kernelspec": {
   "display_name": "sepmod",
   "language": "python",
   "name": "python3"
  },
  "language_info": {
   "codemirror_mode": {
    "name": "ipython",
    "version": 3
   },
   "file_extension": ".py",
   "mimetype": "text/x-python",
   "name": "python",
   "nbconvert_exporter": "python",
   "pygments_lexer": "ipython3",
   "version": "3.8.10"
  }
 },
 "nbformat": 4,
 "nbformat_minor": 2
}
